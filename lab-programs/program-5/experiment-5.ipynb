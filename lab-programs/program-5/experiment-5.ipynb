{
 "cells": [
  {
   "cell_type": "code",
   "execution_count": 1,
   "id": "c5a1c751-6088-4a2b-8eff-a70c30e8cf3c",
   "metadata": {},
   "outputs": [
    {
     "name": "stdout",
     "output_type": "stream",
     "text": [
      "Requirement already satisfied: requests in c:\\users\\prithviraj\\anaconda3\\lib\\site-packages (2.32.3)\n",
      "Collecting pymongo\n",
      "  Downloading pymongo-4.15.1-cp313-cp313-win_amd64.whl.metadata (22 kB)\n",
      "Requirement already satisfied: pandas in c:\\users\\prithviraj\\anaconda3\\lib\\site-packages (2.2.3)\n",
      "Requirement already satisfied: charset-normalizer<4,>=2 in c:\\users\\prithviraj\\anaconda3\\lib\\site-packages (from requests) (3.3.2)\n",
      "Requirement already satisfied: idna<4,>=2.5 in c:\\users\\prithviraj\\anaconda3\\lib\\site-packages (from requests) (3.7)\n",
      "Requirement already satisfied: urllib3<3,>=1.21.1 in c:\\users\\prithviraj\\anaconda3\\lib\\site-packages (from requests) (2.3.0)\n",
      "Requirement already satisfied: certifi>=2017.4.17 in c:\\users\\prithviraj\\anaconda3\\lib\\site-packages (from requests) (2025.4.26)\n",
      "Collecting dnspython<3.0.0,>=1.16.0 (from pymongo)\n",
      "  Downloading dnspython-2.8.0-py3-none-any.whl.metadata (5.7 kB)\n",
      "Requirement already satisfied: numpy>=1.26.0 in c:\\users\\prithviraj\\anaconda3\\lib\\site-packages (from pandas) (2.1.3)\n",
      "Requirement already satisfied: python-dateutil>=2.8.2 in c:\\users\\prithviraj\\anaconda3\\lib\\site-packages (from pandas) (2.9.0.post0)\n",
      "Requirement already satisfied: pytz>=2020.1 in c:\\users\\prithviraj\\anaconda3\\lib\\site-packages (from pandas) (2024.1)\n",
      "Requirement already satisfied: tzdata>=2022.7 in c:\\users\\prithviraj\\anaconda3\\lib\\site-packages (from pandas) (2025.2)\n",
      "Requirement already satisfied: six>=1.5 in c:\\users\\prithviraj\\anaconda3\\lib\\site-packages (from python-dateutil>=2.8.2->pandas) (1.17.0)\n",
      "Downloading pymongo-4.15.1-cp313-cp313-win_amd64.whl (962 kB)\n",
      "   ---------------------------------------- 0.0/962.2 kB ? eta -:--:--\n",
      "   ---------- ----------------------------- 262.1/962.2 kB ? eta -:--:--\n",
      "   ---------------------------------------- 962.2/962.2 kB 4.1 MB/s eta 0:00:00\n",
      "Downloading dnspython-2.8.0-py3-none-any.whl (331 kB)\n",
      "Installing collected packages: dnspython, pymongo\n",
      "\n",
      "   ---------------------------------------- 0/2 [dnspython]\n",
      "   ---------------------------------------- 0/2 [dnspython]\n",
      "   ---------------------------------------- 0/2 [dnspython]\n",
      "   -------------------- ------------------- 1/2 [pymongo]\n",
      "   -------------------- ------------------- 1/2 [pymongo]\n",
      "   -------------------- ------------------- 1/2 [pymongo]\n",
      "   -------------------- ------------------- 1/2 [pymongo]\n",
      "   -------------------- ------------------- 1/2 [pymongo]\n",
      "   -------------------- ------------------- 1/2 [pymongo]\n",
      "   -------------------- ------------------- 1/2 [pymongo]\n",
      "   ---------------------------------------- 2/2 [pymongo]\n",
      "\n",
      "Successfully installed dnspython-2.8.0 pymongo-4.15.1\n",
      "Note: you may need to restart the kernel to use updated packages.\n"
     ]
    }
   ],
   "source": [
    "pip install requests pymongo pandas"
   ]
  },
  {
   "cell_type": "code",
   "execution_count": 2,
   "id": "bb252668-88a1-488d-a684-720cc6503efd",
   "metadata": {},
   "outputs": [],
   "source": [
    "# pip install requests pymongo\n",
    "\n",
    "import os\n",
    "from datetime import datetime, timezone\n",
    "import requests\n",
    "from pymongo import MongoClient, ASCENDING\n",
    "from datetime import datetime, timezone"
   ]
  },
  {
   "cell_type": "code",
   "execution_count": 3,
   "id": "bc27c8de-a1fb-47a8-b428-dbd7e55783af",
   "metadata": {},
   "outputs": [],
   "source": [
    "# =======================\n",
    "# Config (live-only)\n",
    "# =======================\n",
    "API_KEY = \"\"   # your real key\n",
    "CITY    = \"London\"\n",
    "\n",
    "MONGO_URI   = os.getenv(\"MONGO_URI\", \"mongodb://127.0.0.1:27017\")\n",
    "DB_NAME     = \"sales_weatherinfo_db\"\n",
    "WEATHER_COL = \"weather\"   # existing collection is fine"
   ]
  },
  {
   "cell_type": "code",
   "execution_count": 4,
   "id": "35c85a4a-3ee5-407c-bb8b-b877ae8760c9",
   "metadata": {},
   "outputs": [],
   "source": [
    "# =======================\n",
    "# Helpers\n",
    "# =======================\n",
    "def midnight_utc_naive(dt_utc: datetime) -> datetime:\n",
    "    \"\"\"Return midnight (00:00:00) in UTC as a naive datetime (Mongo stores as UTC).\"\"\"\n",
    "    dt_utc = dt_utc.astimezone(timezone.utc)\n",
    "    return datetime(dt_utc.year, dt_utc.month, dt_utc.day, 0, 0, 0, 0)"
   ]
  },
  {
   "cell_type": "code",
   "execution_count": 5,
   "id": "4c574040-a2df-4636-b05b-907ac2ef9462",
   "metadata": {},
   "outputs": [],
   "source": [
    "def ensure_indexes(col):\n",
    "    # Idempotent; if they already exist, MongoDB keeps them as-is.\n",
    "    col.create_index([(\"weather_date\", ASCENDING), (\"city\", ASCENDING)], unique=True)\n",
    "    col.create_index([(\"city\", ASCENDING), (\"weather_date\", ASCENDING)])"
   ]
  },
  {
   "cell_type": "code",
   "execution_count": 6,
   "id": "9b2a3160-345d-4a2b-bf38-e78dc515c674",
   "metadata": {},
   "outputs": [],
   "source": [
    "def upsert_weather(doc: dict, col):\n",
    "    col.update_one(\n",
    "        {\"weather_date\": doc[\"weather_date\"], \"city\": doc[\"city\"]},\n",
    "        {\"$set\": doc},\n",
    "        upsert=True\n",
    "    )"
   ]
  },
  {
   "cell_type": "code",
   "execution_count": 7,
   "id": "6682d258-211c-4bd2-a90c-fbdf9a01a714",
   "metadata": {},
   "outputs": [],
   "source": [
    "# =======================\n",
    "# Live fetch from OpenWeather (no fallback)\n",
    "# =======================\n",
    "def fetch_weather_live(api_key: str, city: str) -> dict:\n",
    "    url = \"https://api.openweathermap.org/data/2.5/weather\"\n",
    "    params = {\"q\": city, \"appid\": api_key.strip(), \"units\": \"metric\"}\n",
    "\n",
    "    try:\n",
    "        r = requests.get(url, params=params, timeout=20)\n",
    "    except requests.RequestException as e:\n",
    "        raise RuntimeError(f\"Network error calling OpenWeather: {e}\")\n",
    "\n",
    "    # Fail loud with the exact API message (401, 404, 429, etc.)\n",
    "    if not r.ok:\n",
    "        try:\n",
    "            msg = r.json()\n",
    "        except Exception:\n",
    "            msg = r.text\n",
    "        raise RuntimeError(f\"OpenWeather error {r.status_code}: {msg} | url={r.url}\")\n",
    "\n",
    "    data = r.json()\n",
    "    return {\n",
    "        \"weather_date\": datetime.now(timezone.utc).replace(hour=0, minute=0, second=0, microsecond=0),  # BSON Date at midnight UTC\n",
    "        \"city\": city,\n",
    "        \"temp_c\": float(data[\"main\"][\"temp\"]),\n",
    "        \"humidity\": int(data[\"main\"][\"humidity\"]),\n",
    "        \"description\": str(data[\"weather\"][0][\"description\"]),\n",
    "        \"fetched_at\": datetime.now(timezone.utc),  # full timestamp of fetch\n",
    "        \"source\": \"openweather\"\n",
    "    }"
   ]
  },
  {
   "cell_type": "code",
   "execution_count": 9,
   "id": "087a40bd-7f5a-4333-98cb-fe5f2066f1aa",
   "metadata": {},
   "outputs": [
    {
     "name": "stdout",
     "output_type": "stream",
     "text": [
      "Stored live weather for London on 2025-09-23.\n"
     ]
    }
   ],
   "source": [
    "# =======================\n",
    "# Main\n",
    "# =======================\n",
    "def main():\n",
    "    # Basic sanity check on key\n",
    "    if not API_KEY or len(API_KEY.strip()) != 32:\n",
    "        raise ValueError(\"OPENWEATHER API key looks invalid. Expected 32 chars.\")\n",
    "\n",
    "    client = MongoClient(MONGO_URI)\n",
    "    col = client[DB_NAME][WEATHER_COL]\n",
    "\n",
    "    ensure_indexes(col)          # safe even if collection/index exists\n",
    "    doc = fetch_weather_live(API_KEY, CITY)   # live-only; raises on error\n",
    "    upsert_weather(doc, col)\n",
    "\n",
    "    print(f\"Stored live weather for {doc['city']} on {doc['weather_date'].date()}.\")\n",
    "\n",
    "if __name__ == \"__main__\":\n",
    "    main()\n"
   ]
  },
  {
   "cell_type": "code",
   "execution_count": null,
   "id": "7ed68686-c928-4fd1-b4d5-09fca857aeb5",
   "metadata": {},
   "outputs": [],
   "source": []
  }
 ],
 "metadata": {
  "kernelspec": {
   "display_name": "Python 3 (ipykernel)",
   "language": "python",
   "name": "python3"
  },
  "language_info": {
   "codemirror_mode": {
    "name": "ipython",
    "version": 3
   },
   "file_extension": ".py",
   "mimetype": "text/x-python",
   "name": "python",
   "nbconvert_exporter": "python",
   "pygments_lexer": "ipython3",
   "version": "3.13.5"
  }
 },
 "nbformat": 4,
 "nbformat_minor": 5
}
