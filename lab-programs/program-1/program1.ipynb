{
 "cells": [
  {
   "cell_type": "code",
   "execution_count": 1,
   "id": "82da8177-d8ef-4aaf-910b-823e4daa97c3",
   "metadata": {},
   "outputs": [],
   "source": [
    "import pandas as pd\n",
    "import numpy as np\n",
    "import re"
   ]
  },
  {
   "cell_type": "code",
   "execution_count": 2,
   "id": "352a0f1c-ce26-40d0-9922-54326befaac4",
   "metadata": {},
   "outputs": [],
   "source": [
    "df = pd.read_csv('customers - customers.csv')\n"
   ]
  },
  {
   "cell_type": "code",
   "execution_count": 3,
   "id": "c678401f-3217-4eed-8c79-42890f82284a",
   "metadata": {},
   "outputs": [],
   "source": [
    "df = df.drop_duplicates()\n"
   ]
  },
  {
   "cell_type": "code",
   "execution_count": 4,
   "id": "3919838d-646e-4aec-8af6-02aaf1f535d4",
   "metadata": {},
   "outputs": [],
   "source": [
    "def is_valid_email(email):\n",
    "    if pd.isna(email):\n",
    "        return False\n",
    "    return re.match(r\"[^@]+@[^@]+\\.[^@]+\", str(email)) is not None\n",
    "\n",
    "df['email'] = df['email'].apply(lambda x: x if is_valid_email(x) else np.nan)"
   ]
  },
  {
   "cell_type": "code",
   "execution_count": 5,
   "id": "66f3eddd-8542-41a9-a199-8cea74693feb",
   "metadata": {},
   "outputs": [],
   "source": [
    "valid_ages = df['age'].dropna()\n",
    "valid_ages = valid_ages[valid_ages > 0]\n",
    "median_age = valid_ages.median()\n",
    "df['age'] = df['age'].apply(lambda x: median_age if pd.isna(x) or x <= 0 else x)"
   ]
  },
  {
   "cell_type": "code",
   "execution_count": 6,
   "id": "29da324d-3055-4ba4-959c-6a2ea527ee7f",
   "metadata": {},
   "outputs": [],
   "source": [
    "df['name'] = df['name'].fillna('Aditya')\n",
    "df['city'] = df['city'].fillna('Pune')"
   ]
  },
  {
   "cell_type": "code",
   "execution_count": 7,
   "id": "154e4620-632b-4ea1-a001-2980c0fdc076",
   "metadata": {},
   "outputs": [],
   "source": [
    "df['email'] = df['email'].fillna('abc@gmail.com')\n"
   ]
  },
  {
   "cell_type": "code",
   "execution_count": 8,
   "id": "89807483-d4e8-484c-b6c3-991fa6fb49bc",
   "metadata": {},
   "outputs": [],
   "source": [
    "df.to_csv('customers_cleaned2.csv', index=False)\n"
   ]
  },
  {
   "cell_type": "code",
   "execution_count": 9,
   "id": "b4d9b1a8-7dea-48b5-a3dc-7803f047bd89",
   "metadata": {},
   "outputs": [
    {
     "name": "stdout",
     "output_type": "stream",
     "text": [
      "Data cleaning completed. Cleaned data saved to 'customers_cleaned.csv'.\n"
     ]
    }
   ],
   "source": [
    "print(\"Data cleaning completed. Cleaned data saved to 'customers_cleaned.csv'.\")\n"
   ]
  },
  {
   "cell_type": "code",
   "execution_count": null,
   "id": "7428dbd3-7662-4418-92b0-1e4dcb8e5d3c",
   "metadata": {},
   "outputs": [],
   "source": []
  }
 ],
 "metadata": {
  "kernelspec": {
   "display_name": "Python 3 (ipykernel)",
   "language": "python",
   "name": "python3"
  },
  "language_info": {
   "codemirror_mode": {
    "name": "ipython",
    "version": 3
   },
   "file_extension": ".py",
   "mimetype": "text/x-python",
   "name": "python",
   "nbconvert_exporter": "python",
   "pygments_lexer": "ipython3",
   "version": "3.13.5"
  }
 },
 "nbformat": 4,
 "nbformat_minor": 5
}
