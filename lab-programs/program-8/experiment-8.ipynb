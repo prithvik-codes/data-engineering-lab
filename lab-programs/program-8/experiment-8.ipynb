{
 "cells": [
  {
   "cell_type": "code",
   "execution_count": 1,
   "id": "d8298876-9411-454e-8e22-7d4f283102e2",
   "metadata": {},
   "outputs": [
    {
     "name": "stdout",
     "output_type": "stream",
     "text": [
      "Requirement already satisfied: pymongo in c:\\users\\prithviraj\\anaconda3\\lib\\site-packages (4.15.1)\n",
      "Requirement already satisfied: dnspython<3.0.0,>=1.16.0 in c:\\users\\prithviraj\\anaconda3\\lib\\site-packages (from pymongo) (2.8.0)\n"
     ]
    }
   ],
   "source": [
    "!pip install pymongo\n"
   ]
  },
  {
   "cell_type": "code",
   "execution_count": 2,
   "id": "f8240956-db57-488e-b39e-b5d99ab6cb05",
   "metadata": {},
   "outputs": [
    {
     "name": "stdout",
     "output_type": "stream",
     "text": [
      "Requirement already satisfied: python-dotenv in c:\\users\\prithviraj\\anaconda3\\lib\\site-packages (1.1.0)\n"
     ]
    }
   ],
   "source": [
    "!pip install python-dotenv\n"
   ]
  },
  {
   "cell_type": "code",
   "execution_count": 3,
   "id": "b914448d-797f-4164-b272-74732b5ba5a6",
   "metadata": {},
   "outputs": [
    {
     "name": "stdout",
     "output_type": "stream",
     "text": [
      "✅ Connected to MongoDB successfully!\n"
     ]
    }
   ],
   "source": [
    "from pymongo import MongoClient\n",
    "from datetime import datetime\n",
    "\n",
    "# Connect to local MongoDB (make sure MongoDB is running)\n",
    "client = MongoClient(\"mongodb://localhost:27017/\")\n",
    "db = client[\"hospital_db\"]\n",
    "\n",
    "# Create collections\n",
    "departments = db[\"departments\"]\n",
    "doctors = db[\"doctors\"]\n",
    "patients = db[\"patients\"]\n",
    "appointments = db[\"appointments\"]\n",
    "medical_records = db[\"medical_records\"]\n",
    "\n",
    "print(\"✅ Connected to MongoDB successfully!\")\n"
   ]
  },
  {
   "cell_type": "code",
   "execution_count": 4,
   "id": "9bdfb73a-1404-4514-8110-c9ffedbcff5c",
   "metadata": {},
   "outputs": [],
   "source": [
    "from bson import ObjectId\n",
    "\n",
    "def create_department(name, description=\"\"):\n",
    "    return departments.insert_one({\n",
    "        \"name\": name,\n",
    "        \"description\": description,\n",
    "        \"created_at\": datetime.utcnow()\n",
    "    }).inserted_id\n",
    "\n",
    "def list_departments():\n",
    "    return list(departments.find({}, {\"name\": 1, \"description\": 1}))\n",
    "\n",
    "def create_doctor(name, department_id, specialization=\"\"):\n",
    "    return doctors.insert_one({\n",
    "        \"name\": name,\n",
    "        \"department_id\": ObjectId(department_id),\n",
    "        \"specialization\": specialization,\n",
    "        \"created_at\": datetime.utcnow()\n",
    "    }).inserted_id\n",
    "\n",
    "def list_doctors():\n",
    "    docs = list(doctors.find())\n",
    "    for d in docs:\n",
    "        dept = departments.find_one({\"_id\": d[\"department_id\"]})\n",
    "        d[\"department_name\"] = dept[\"name\"] if dept else None\n",
    "    return docs\n",
    "\n",
    "def create_patient(name, dob, gender, phone):\n",
    "    return patients.insert_one({\n",
    "        \"name\": name,\n",
    "        \"dob\": dob,\n",
    "        \"gender\": gender,\n",
    "        \"phone\": phone,\n",
    "        \"created_at\": datetime.utcnow()\n",
    "    }).inserted_id\n",
    "\n",
    "def list_patients():\n",
    "    return list(patients.find({}, {\"name\": 1, \"gender\": 1, \"phone\": 1}))\n",
    "\n",
    "def create_appointment(patient_id, doctor_id, when, reason=\"\"):\n",
    "    return appointments.insert_one({\n",
    "        \"patient_id\": ObjectId(patient_id),\n",
    "        \"doctor_id\": ObjectId(doctor_id),\n",
    "        \"when\": when,\n",
    "        \"reason\": reason,\n",
    "        \"created_at\": datetime.utcnow()\n",
    "    }).inserted_id\n",
    "\n",
    "def list_appointments():\n",
    "    appts = list(appointments.find())\n",
    "    for a in appts:\n",
    "        pat = patients.find_one({\"_id\": a[\"patient_id\"]})\n",
    "        doc = doctors.find_one({\"_id\": a[\"doctor_id\"]})\n",
    "        a[\"patient_name\"] = pat[\"name\"] if pat else None\n",
    "        a[\"doctor_name\"] = doc[\"name\"] if doc else None\n",
    "    return appts\n"
   ]
  },
  {
   "cell_type": "code",
   "execution_count": 5,
   "id": "d44249bc-2e26-4498-a16e-37cb234006f0",
   "metadata": {},
   "outputs": [
    {
     "name": "stderr",
     "output_type": "stream",
     "text": [
      "C:\\Users\\Prithviraj\\AppData\\Local\\Temp\\ipykernel_12932\\3644673965.py:7: DeprecationWarning: datetime.datetime.utcnow() is deprecated and scheduled for removal in a future version. Use timezone-aware objects to represent datetimes in UTC: datetime.datetime.now(datetime.UTC).\n",
      "  \"created_at\": datetime.utcnow()\n",
      "C:\\Users\\Prithviraj\\AppData\\Local\\Temp\\ipykernel_12932\\3644673965.py:18: DeprecationWarning: datetime.datetime.utcnow() is deprecated and scheduled for removal in a future version. Use timezone-aware objects to represent datetimes in UTC: datetime.datetime.now(datetime.UTC).\n",
      "  \"created_at\": datetime.utcnow()\n",
      "C:\\Users\\Prithviraj\\AppData\\Local\\Temp\\ipykernel_12932\\3644673965.py:34: DeprecationWarning: datetime.datetime.utcnow() is deprecated and scheduled for removal in a future version. Use timezone-aware objects to represent datetimes in UTC: datetime.datetime.now(datetime.UTC).\n",
      "  \"created_at\": datetime.utcnow()\n",
      "C:\\Users\\Prithviraj\\AppData\\Local\\Temp\\ipykernel_12932\\3644673965.py:46: DeprecationWarning: datetime.datetime.utcnow() is deprecated and scheduled for removal in a future version. Use timezone-aware objects to represent datetimes in UTC: datetime.datetime.now(datetime.UTC).\n",
      "  \"created_at\": datetime.utcnow()\n"
     ]
    },
    {
     "name": "stdout",
     "output_type": "stream",
     "text": [
      "✅ Sample data inserted successfully!\n"
     ]
    }
   ],
   "source": [
    "# Create departments\n",
    "cardio_id = create_department(\"Cardiology\", \"Heart related treatments\")\n",
    "pediatrics_id = create_department(\"Pediatrics\", \"Child healthcare\")\n",
    "\n",
    "# Create doctors\n",
    "doc1_id = create_doctor(\"Dr. Meena Sharma\", cardio_id, \"Cardiologist\")\n",
    "doc2_id = create_doctor(\"Dr. Rahul Patil\", pediatrics_id, \"Pediatrician\")\n",
    "\n",
    "# Create patients\n",
    "pat1_id = create_patient(\"Amit Kumar\", \"1990-06-10\", \"M\", \"+911234567890\")\n",
    "pat2_id = create_patient(\"Neha Singh\", \"2015-05-15\", \"F\", \"+919876543210\")\n",
    "\n",
    "# Create appointment\n",
    "appt_id = create_appointment(pat1_id, doc1_id, datetime(2025, 11, 5, 10, 30), \"Chest pain\")\n",
    "print(\"✅ Sample data inserted successfully!\")\n"
   ]
  },
  {
   "cell_type": "code",
   "execution_count": 6,
   "id": "67f31a6a-1d8a-4708-9d99-61a1e3504f40",
   "metadata": {},
   "outputs": [
    {
     "name": "stdout",
     "output_type": "stream",
     "text": [
      "Departments:\n",
      "[{'_id': ObjectId('6900e085f603f44d68c6e54f'), 'name': 'Cardiology', 'description': 'Heart related treatments'}, {'_id': ObjectId('6900e085f603f44d68c6e550'), 'name': 'Pediatrics', 'description': 'Child healthcare'}]\n",
      "\n",
      "Doctors:\n",
      "[{'_id': ObjectId('6900e085f603f44d68c6e551'), 'name': 'Dr. Meena Sharma', 'department_id': ObjectId('6900e085f603f44d68c6e54f'), 'specialization': 'Cardiologist', 'created_at': datetime.datetime(2025, 10, 28, 15, 25, 57, 508000), 'department_name': 'Cardiology'}, {'_id': ObjectId('6900e085f603f44d68c6e552'), 'name': 'Dr. Rahul Patil', 'department_id': ObjectId('6900e085f603f44d68c6e550'), 'specialization': 'Pediatrician', 'created_at': datetime.datetime(2025, 10, 28, 15, 25, 57, 530000), 'department_name': 'Pediatrics'}]\n",
      "\n",
      "Patients:\n",
      "[{'_id': ObjectId('6900e085f603f44d68c6e553'), 'name': 'Amit Kumar', 'gender': 'M', 'phone': '+911234567890'}, {'_id': ObjectId('6900e085f603f44d68c6e554'), 'name': 'Neha Singh', 'gender': 'F', 'phone': '+919876543210'}]\n",
      "\n",
      "Appointments:\n",
      "[{'_id': ObjectId('6900e085f603f44d68c6e555'), 'patient_id': ObjectId('6900e085f603f44d68c6e553'), 'doctor_id': ObjectId('6900e085f603f44d68c6e551'), 'when': datetime.datetime(2025, 11, 5, 10, 30), 'reason': 'Chest pain', 'created_at': datetime.datetime(2025, 10, 28, 15, 25, 57, 554000), 'patient_name': 'Amit Kumar', 'doctor_name': 'Dr. Meena Sharma'}]\n"
     ]
    }
   ],
   "source": [
    "print(\"Departments:\")\n",
    "print(list_departments())\n",
    "\n",
    "print(\"\\nDoctors:\")\n",
    "print(list_doctors())\n",
    "\n",
    "print(\"\\nPatients:\")\n",
    "print(list_patients())\n",
    "\n",
    "print(\"\\nAppointments:\")\n",
    "print(list_appointments())\n"
   ]
  },
  {
   "cell_type": "code",
   "execution_count": null,
   "id": "676b5fc4-8a0d-4bec-a5bd-7af069538878",
   "metadata": {},
   "outputs": [],
   "source": []
  }
 ],
 "metadata": {
  "kernelspec": {
   "display_name": "Python 3 (ipykernel)",
   "language": "python",
   "name": "python3"
  },
  "language_info": {
   "codemirror_mode": {
    "name": "ipython",
    "version": 3
   },
   "file_extension": ".py",
   "mimetype": "text/x-python",
   "name": "python",
   "nbconvert_exporter": "python",
   "pygments_lexer": "ipython3",
   "version": "3.13.5"
  }
 },
 "nbformat": 4,
 "nbformat_minor": 5
}
